{
 "cells": [
  {
   "cell_type": "code",
   "execution_count": 1,
   "id": "fb38e886",
   "metadata": {},
   "outputs": [],
   "source": [
    "import os\n",
    "from pathlib import Path\n",
    "import glob\n",
    "import pandas as pd\n",
    "import matplotlib.pyplot as plt\n",
    "import numpy as np\n",
    "import random\n",
    "from datetime import datetime, timedelta\n",
    "from dateutil.relativedelta import relativedelta\n",
    "import pprint\n",
    "import pyspark\n",
    "import pyspark.sql.functions as F\n",
    "\n",
    "from pyspark.sql.functions import col, sum as spark_sum, isnan, when\n",
    "from pyspark.sql.types import StringType, IntegerType, FloatType, DateType"
   ]
  },
  {
   "cell_type": "code",
   "execution_count": 2,
   "id": "5e9586ee",
   "metadata": {},
   "outputs": [
    {
     "name": "stderr",
     "output_type": "stream",
     "text": [
      "Setting default log level to \"WARN\".\n",
      "To adjust logging level use sc.setLogLevel(newLevel). For SparkR, use setLogLevel(newLevel).\n",
      "25/06/20 20:39:20 WARN NativeCodeLoader: Unable to load native-hadoop library for your platform... using builtin-java classes where applicable\n"
     ]
    }
   ],
   "source": [
    "# Initialize SparkSession\n",
    "spark = pyspark.sql.SparkSession.builder \\\n",
    "    .appName(\"dev\") \\\n",
    "    .master(\"local[*]\") \\\n",
    "    .getOrCreate()\n",
    "\n",
    "# Set log level to ERROR to hide warnings\n",
    "spark.sparkContext.setLogLevel(\"ERROR\")"
   ]
  },
  {
   "cell_type": "markdown",
   "id": "7344af7a-8237-4c99-8686-8423f4b83677",
   "metadata": {
    "jp-MarkdownHeadingCollapsed": true
   },
   "source": [
    "## Set Up"
   ]
  },
  {
   "cell_type": "code",
   "execution_count": 3,
   "id": "39f955aa-5a34-42ca-9026-61c295a22235",
   "metadata": {},
   "outputs": [],
   "source": [
    "bronze_dir = Path(\"datamart/bronze\")\n",
    "silver_dir = Path(\"datamart/silver\")\n",
    "gold_dir = Path(\"datamart/gold\")"
   ]
  },
  {
   "cell_type": "code",
   "execution_count": 4,
   "id": "ae65019b-40db-4f06-9b59-54e9c989ed62",
   "metadata": {},
   "outputs": [],
   "source": [
    "parquet_files = [\n",
    "    bronze_dir / \"features_credit_history.parquet\",\n",
    "    bronze_dir / \"features_demographic.parquet\",\n",
    "    bronze_dir / \"features_financial.parquet\",\n",
    "    bronze_dir / \"features_loan_terms.parquet\"\n",
    "]"
   ]
  },
  {
   "cell_type": "code",
   "execution_count": 5,
   "id": "80540993-3947-4090-80a8-d3793dff13c5",
   "metadata": {},
   "outputs": [],
   "source": [
    "# Correcting timestamp resolution to make it PySpark compatible\n",
    "for file in parquet_files:\n",
    "    df = pd.read_parquet(file)\n",
    "    df.to_parquet(file, coerce_timestamps=\"us\")"
   ]
  },
  {
   "cell_type": "code",
   "execution_count": 6,
   "id": "3e24681b-895b-402a-a58f-76fe1968e0f7",
   "metadata": {},
   "outputs": [
    {
     "name": "stdout",
     "output_type": "stream",
     "text": [
      "<class 'pandas.core.series.Series'>\n",
      "RangeIndex: 2260668 entries, 0 to 2260667\n",
      "Series name: snapshot_date\n",
      "Non-Null Count    Dtype         \n",
      "--------------    -----         \n",
      "2260668 non-null  datetime64[us]\n",
      "dtypes: datetime64[us](1)\n",
      "memory usage: 17.2 MB\n"
     ]
    }
   ],
   "source": [
    "df['snapshot_date'].info()"
   ]
  },
  {
   "cell_type": "code",
   "execution_count": 7,
   "id": "7ddbff19-784e-4890-99b5-ce8ab08d78f5",
   "metadata": {},
   "outputs": [
    {
     "name": "stderr",
     "output_type": "stream",
     "text": [
      "                                                                                "
     ]
    }
   ],
   "source": [
    "# Converting parquet files to PySpark format\n",
    "for file in parquet_files:\n",
    "    df = spark.read.parquet(str(file))\n",
    "    output_dir = bronze_dir / file.stem  \n",
    "    df.write.mode(\"overwrite\").parquet(str(output_dir))"
   ]
  },
  {
   "cell_type": "code",
   "execution_count": 5,
   "id": "b4270fec-b5b0-4707-9ba1-e81f91610fcb",
   "metadata": {},
   "outputs": [],
   "source": [
    "parquet_folders = [\n",
    "    bronze_dir / \"features_credit_history\",\n",
    "    bronze_dir / \"features_demographic\",\n",
    "    bronze_dir / \"features_financial\",\n",
    "    bronze_dir / \"features_loan_terms\"\n",
    "]"
   ]
  },
  {
   "cell_type": "code",
   "execution_count": 9,
   "id": "6af90176-0bbf-44bb-9254-7c31174a8e2d",
   "metadata": {
    "scrolled": true
   },
   "outputs": [
    {
     "name": "stdout",
     "output_type": "stream",
     "text": [
      "\n",
      "=== features_credit_history ===\n",
      "root\n",
      " |-- snapshot_date: timestamp_ntz (nullable = true)\n",
      "\n",
      "+-------------------+\n",
      "|snapshot_date      |\n",
      "+-------------------+\n",
      "|2016-01-01 00:00:00|\n",
      "|2016-01-01 00:00:00|\n",
      "|2016-01-01 00:00:00|\n",
      "|2016-01-01 00:00:00|\n",
      "|2016-01-01 00:00:00|\n",
      "+-------------------+\n",
      "only showing top 5 rows\n",
      "\n",
      "\n",
      "=== features_demographic ===\n",
      "root\n",
      " |-- snapshot_date: timestamp_ntz (nullable = true)\n",
      "\n",
      "+-------------------+\n",
      "|snapshot_date      |\n",
      "+-------------------+\n",
      "|2016-01-01 00:00:00|\n",
      "|2016-01-01 00:00:00|\n",
      "|2016-01-01 00:00:00|\n",
      "|2016-01-01 00:00:00|\n",
      "|2016-01-01 00:00:00|\n",
      "+-------------------+\n",
      "only showing top 5 rows\n",
      "\n",
      "\n",
      "=== features_financial ===\n",
      "root\n",
      " |-- snapshot_date: timestamp_ntz (nullable = true)\n",
      "\n",
      "+-------------------+\n",
      "|snapshot_date      |\n",
      "+-------------------+\n",
      "|2016-01-01 00:00:00|\n",
      "|2016-01-01 00:00:00|\n",
      "|2016-01-01 00:00:00|\n",
      "|2016-01-01 00:00:00|\n",
      "|2016-01-01 00:00:00|\n",
      "+-------------------+\n",
      "only showing top 5 rows\n",
      "\n",
      "\n",
      "=== features_loan_terms ===\n",
      "root\n",
      " |-- snapshot_date: timestamp_ntz (nullable = true)\n",
      "\n",
      "+-------------------+\n",
      "|snapshot_date      |\n",
      "+-------------------+\n",
      "|2016-01-01 00:00:00|\n",
      "|2016-01-01 00:00:00|\n",
      "|2016-01-01 00:00:00|\n",
      "|2016-01-01 00:00:00|\n",
      "|2016-01-01 00:00:00|\n",
      "+-------------------+\n",
      "only showing top 5 rows\n",
      "\n"
     ]
    }
   ],
   "source": [
    "for dir_path in parquet_folders:\n",
    "    print(f\"\\n=== {dir_path.name} ===\")\n",
    "    df = spark.read.parquet(str(dir_path))\n",
    "    \n",
    "    if \"snapshot_date\" in df.columns:\n",
    "        df.select(\"snapshot_date\").printSchema()  # see data type\n",
    "        df.select(\"snapshot_date\").show(5, truncate=False)  # preview first 5 values\n",
    "    else:\n",
    "        print(\"⚠️ 'snapshot_date' column not found.\")"
   ]
  },
  {
   "cell_type": "code",
   "execution_count": 10,
   "id": "4375adb9-bd6d-48eb-9392-1a75908900d4",
   "metadata": {},
   "outputs": [
    {
     "name": "stdout",
     "output_type": "stream",
     "text": [
      "Schema: features_credit_history\n",
      "root\n",
      " |-- member_id: string (nullable = true)\n",
      " |-- snapshot_date: timestamp_ntz (nullable = true)\n",
      " |-- mort_acc: double (nullable = true)\n",
      " |-- num_tl_op_past_12m: double (nullable = true)\n",
      " |-- earliest_cr_line: string (nullable = true)\n",
      " |-- last_credit_pull_d: string (nullable = true)\n",
      " |-- inq_last_6mths: double (nullable = true)\n",
      " |-- inq_last_12m: double (nullable = true)\n",
      " |-- inq_fi: double (nullable = true)\n",
      " |-- mths_since_last_delinq: double (nullable = true)\n",
      " |-- mths_since_last_record: double (nullable = true)\n",
      " |-- mths_since_last_major_derog: double (nullable = true)\n",
      " |-- mths_since_recent_bc_dlq: double (nullable = true)\n",
      " |-- mths_since_recent_inq: double (nullable = true)\n",
      " |-- mths_since_recent_revol_delinq: double (nullable = true)\n",
      " |-- mths_since_rcnt_il: double (nullable = true)\n",
      " |-- mths_since_recent_bc: double (nullable = true)\n",
      " |-- acc_now_delinq: double (nullable = true)\n",
      " |-- delinq_2yrs: double (nullable = true)\n",
      " |-- pub_rec: double (nullable = true)\n",
      " |-- collections_12_mths_ex_med: double (nullable = true)\n",
      " |-- chargeoff_within_12_mths: double (nullable = true)\n",
      " |-- tax_liens: double (nullable = true)\n",
      " |-- pub_rec_bankruptcies: double (nullable = true)\n",
      " |-- num_tl_120dpd_2m: double (nullable = true)\n",
      " |-- num_tl_30dpd: double (nullable = true)\n",
      " |-- num_tl_90g_dpd_24m: double (nullable = true)\n",
      " |-- num_accts_ever_120_pd: double (nullable = true)\n",
      " |-- delinq_amnt: double (nullable = true)\n",
      " |-- sec_app_chargeoff_within_12_mths: double (nullable = true)\n",
      " |-- sec_app_collections_12_mths_ex_med: double (nullable = true)\n",
      " |-- sec_app_mths_since_last_major_derog: double (nullable = true)\n",
      "\n",
      "Schema: features_demographic\n",
      "root\n",
      " |-- member_id: string (nullable = true)\n",
      " |-- snapshot_date: timestamp_ntz (nullable = true)\n",
      " |-- emp_title: string (nullable = true)\n",
      " |-- emp_length: string (nullable = true)\n",
      " |-- home_ownership: string (nullable = true)\n",
      " |-- annual_inc: double (nullable = true)\n",
      " |-- verification_status: string (nullable = true)\n",
      " |-- zip_code: string (nullable = true)\n",
      " |-- addr_state: string (nullable = true)\n",
      " |-- application_type: string (nullable = true)\n",
      " |-- annual_inc_joint: double (nullable = true)\n",
      " |-- verification_status_joint: string (nullable = true)\n",
      " |-- sec_app_earliest_cr_line: string (nullable = true)\n",
      " |-- sec_app_inq_last_6mths: double (nullable = true)\n",
      " |-- sec_app_mort_acc: double (nullable = true)\n",
      " |-- sec_app_open_acc: double (nullable = true)\n",
      " |-- sec_app_revol_util: double (nullable = true)\n",
      " |-- sec_app_open_act_il: double (nullable = true)\n",
      " |-- sec_app_num_rev_accts: double (nullable = true)\n",
      "\n",
      "Schema: features_financial\n",
      "root\n",
      " |-- member_id: string (nullable = true)\n",
      " |-- snapshot_date: timestamp_ntz (nullable = true)\n",
      " |-- dti: double (nullable = true)\n",
      " |-- dti_joint: double (nullable = true)\n",
      " |-- revol_bal: long (nullable = true)\n",
      " |-- revol_bal_joint: double (nullable = true)\n",
      " |-- revol_util: double (nullable = true)\n",
      " |-- total_rev_hi_lim: double (nullable = true)\n",
      " |-- tot_coll_amt: double (nullable = true)\n",
      " |-- tot_cur_bal: double (nullable = true)\n",
      " |-- avg_cur_bal: double (nullable = true)\n",
      " |-- all_util: double (nullable = true)\n",
      " |-- max_bal_bc: double (nullable = true)\n",
      " |-- il_util: double (nullable = true)\n",
      " |-- bc_util: double (nullable = true)\n",
      " |-- total_bal_il: double (nullable = true)\n",
      " |-- total_bal_ex_mort: double (nullable = true)\n",
      " |-- total_bc_limit: double (nullable = true)\n",
      " |-- total_il_high_credit_limit: double (nullable = true)\n",
      " |-- tot_hi_cred_lim: double (nullable = true)\n",
      " |-- open_acc: double (nullable = true)\n",
      " |-- total_acc: double (nullable = true)\n",
      " |-- open_acc_6m: double (nullable = true)\n",
      " |-- open_act_il: double (nullable = true)\n",
      " |-- open_il_12m: double (nullable = true)\n",
      " |-- open_il_24m: double (nullable = true)\n",
      " |-- open_rv_12m: double (nullable = true)\n",
      " |-- open_rv_24m: double (nullable = true)\n",
      " |-- acc_open_past_24mths: double (nullable = true)\n",
      " |-- mo_sin_old_il_acct: double (nullable = true)\n",
      " |-- mo_sin_old_rev_tl_op: double (nullable = true)\n",
      " |-- mo_sin_rcnt_rev_tl_op: double (nullable = true)\n",
      " |-- mo_sin_rcnt_tl: double (nullable = true)\n",
      " |-- num_actv_bc_tl: double (nullable = true)\n",
      " |-- num_actv_rev_tl: double (nullable = true)\n",
      " |-- num_rev_accts: double (nullable = true)\n",
      " |-- num_rev_tl_bal_gt_0: double (nullable = true)\n",
      " |-- num_il_tl: double (nullable = true)\n",
      " |-- num_bc_tl: double (nullable = true)\n",
      " |-- num_op_rev_tl: double (nullable = true)\n",
      " |-- num_sats: double (nullable = true)\n",
      " |-- num_bc_sats: double (nullable = true)\n",
      " |-- total_cu_tl: double (nullable = true)\n",
      " |-- bc_open_to_buy: double (nullable = true)\n",
      " |-- percent_bc_gt_75: double (nullable = true)\n",
      " |-- pct_tl_nvr_dlq: double (nullable = true)\n",
      "\n",
      "Schema: features_loan_terms\n",
      "root\n",
      " |-- id: string (nullable = true)\n",
      " |-- member_id: string (nullable = true)\n",
      " |-- snapshot_date: timestamp_ntz (nullable = true)\n",
      " |-- loan_amnt: long (nullable = true)\n",
      " |-- funded_amnt: long (nullable = true)\n",
      " |-- funded_amnt_inv: double (nullable = true)\n",
      " |-- term: string (nullable = true)\n",
      " |-- int_rate: double (nullable = true)\n",
      " |-- installment: double (nullable = true)\n",
      " |-- grade: string (nullable = true)\n",
      " |-- sub_grade: string (nullable = true)\n",
      " |-- issue_d: string (nullable = true)\n",
      " |-- loan_status: string (nullable = true)\n",
      " |-- pymnt_plan: string (nullable = true)\n",
      " |-- url: double (nullable = true)\n",
      " |-- desc: string (nullable = true)\n",
      " |-- purpose: string (nullable = true)\n",
      " |-- title: string (nullable = true)\n",
      " |-- initial_list_status: string (nullable = true)\n",
      " |-- out_prncp: double (nullable = true)\n",
      " |-- out_prncp_inv: double (nullable = true)\n",
      " |-- total_pymnt: double (nullable = true)\n",
      " |-- total_pymnt_inv: double (nullable = true)\n",
      " |-- total_rec_prncp: double (nullable = true)\n",
      " |-- total_rec_int: double (nullable = true)\n",
      " |-- total_rec_late_fee: double (nullable = true)\n",
      " |-- recoveries: double (nullable = true)\n",
      " |-- collection_recovery_fee: double (nullable = true)\n",
      " |-- last_pymnt_d: string (nullable = true)\n",
      " |-- last_pymnt_amnt: double (nullable = true)\n",
      " |-- next_pymnt_d: string (nullable = true)\n",
      " |-- policy_code: long (nullable = true)\n",
      " |-- hardship_flag: string (nullable = true)\n",
      " |-- hardship_type: string (nullable = true)\n",
      " |-- hardship_reason: string (nullable = true)\n",
      " |-- hardship_status: string (nullable = true)\n",
      " |-- deferral_term: double (nullable = true)\n",
      " |-- hardship_amount: double (nullable = true)\n",
      " |-- hardship_start_date: string (nullable = true)\n",
      " |-- hardship_end_date: string (nullable = true)\n",
      " |-- payment_plan_start_date: string (nullable = true)\n",
      " |-- hardship_length: double (nullable = true)\n",
      " |-- hardship_dpd: double (nullable = true)\n",
      " |-- hardship_loan_status: string (nullable = true)\n",
      " |-- orig_projected_additional_accrued_interest: double (nullable = true)\n",
      " |-- hardship_payoff_balance_amount: double (nullable = true)\n",
      " |-- hardship_last_payment_amount: double (nullable = true)\n",
      " |-- disbursement_method: string (nullable = true)\n",
      " |-- debt_settlement_flag: string (nullable = true)\n",
      " |-- debt_settlement_flag_date: string (nullable = true)\n",
      " |-- settlement_status: string (nullable = true)\n",
      " |-- settlement_date: string (nullable = true)\n",
      " |-- settlement_amount: double (nullable = true)\n",
      " |-- settlement_percentage: double (nullable = true)\n",
      " |-- settlement_term: double (nullable = true)\n",
      "\n"
     ]
    }
   ],
   "source": [
    "for dir_path in parquet_folders:\n",
    "    df = spark.read.parquet(str(dir_path))\n",
    "    print(f\"Schema: {dir_path.name}\")\n",
    "    df.printSchema()"
   ]
  },
  {
   "cell_type": "markdown",
   "id": "20cf1b68-bb2a-4c3d-b3ed-424904b8c33c",
   "metadata": {},
   "source": [
    "## Config"
   ]
  },
  {
   "cell_type": "code",
   "execution_count": 4,
   "id": "b9d086c7-19fc-4228-bd30-15ca6d4fba5f",
   "metadata": {},
   "outputs": [],
   "source": [
    "snapshot_date_str = \"2024-01-01\"\n",
    "\n",
    "start_date_str = \"2024-01-01\"\n",
    "end_date_str = \"2024-12-31\""
   ]
  },
  {
   "cell_type": "code",
   "execution_count": 5,
   "id": "992b032e-6faa-4472-abc4-dbfe2b33d0d3",
   "metadata": {},
   "outputs": [],
   "source": [
    "def generate_date_list(start_date_str, end_date_str):\n",
    "    start_date = datetime.strptime(start_date_str, \"%Y-%m-%d\").date()\n",
    "    end_date = datetime.strptime(end_date_str, \"%Y-%m-%d\").date()\n",
    "\n",
    "    current_date = start_date\n",
    "    date_list = []\n",
    "\n",
    "    while current_date <= end_date:\n",
    "        date_list.append(current_date)\n",
    "        current_date += timedelta(days=1)\n",
    "\n",
    "    return date_list"
   ]
  },
  {
   "cell_type": "code",
   "execution_count": 6,
   "id": "e47d912d-358f-4eb7-aefa-1b43a7dd41e9",
   "metadata": {},
   "outputs": [],
   "source": [
    "date_list = generate_date_list(start_date_str, end_date_str)"
   ]
  },
  {
   "cell_type": "markdown",
   "id": "2f5546dd-430e-4bfe-9815-c9c6af3c3446",
   "metadata": {},
   "source": [
    "## Silver Level Processing"
   ]
  },
  {
   "cell_type": "code",
   "execution_count": 14,
   "id": "49c72305-9546-4ab8-b6c5-4a8146a93538",
   "metadata": {},
   "outputs": [
    {
     "name": "stderr",
     "output_type": "stream",
     "text": [
      "                                                                                "
     ]
    },
    {
     "name": "stdout",
     "output_type": "stream",
     "text": [
      "Silver-level processing complete.\n"
     ]
    }
   ],
   "source": [
    "from utils.silver_processing import silver_processing\n",
    "\n",
    "# silver_processing.py automatically splits the data by month and backfills the data accordingly\n",
    "# data_window refers to the snapshot dates used\n",
    "silver_processing(bronze_dir, silver_dir, data_window=date_list)"
   ]
  },
  {
   "cell_type": "code",
   "execution_count": 18,
   "id": "82a1a69c-ad1b-41a9-8784-ab9056bb0de8",
   "metadata": {},
   "outputs": [],
   "source": [
    "sample_parquets = [\n",
    "    silver_dir / \"credit_history/credit_history_2023-01-01\",\n",
    "    silver_dir / \"demographic/demographic_2023-01-01\",\n",
    "    silver_dir / \"financial/financial_2023-01-01\",\n",
    "    silver_dir / \"loan_terms/loan_terms_2023-01-01\"\n",
    "]"
   ]
  },
  {
   "cell_type": "code",
   "execution_count": 25,
   "id": "0a148023-79e9-4265-8298-605abe8c30b2",
   "metadata": {},
   "outputs": [
    {
     "name": "stdout",
     "output_type": "stream",
     "text": [
      "Schema: credit_history_2023-01-01\n",
      "root\n",
      " |-- member_id: string (nullable = true)\n",
      " |-- snapshot_date: timestamp_ntz (nullable = true)\n",
      " |-- mort_acc: double (nullable = true)\n",
      " |-- num_tl_op_past_12m: double (nullable = true)\n",
      " |-- earliest_cr_line: string (nullable = true)\n",
      " |-- inq_last_6mths: double (nullable = true)\n",
      " |-- inq_last_12m: double (nullable = true)\n",
      " |-- inq_fi: double (nullable = true)\n",
      " |-- mths_since_last_delinq: double (nullable = true)\n",
      " |-- mths_since_recent_inq: double (nullable = true)\n",
      " |-- mths_since_rcnt_il: double (nullable = true)\n",
      " |-- mths_since_recent_bc: double (nullable = true)\n",
      " |-- acc_now_delinq: double (nullable = true)\n",
      " |-- delinq_2yrs: double (nullable = true)\n",
      " |-- pub_rec: double (nullable = true)\n",
      " |-- collections_12_mths_ex_med: double (nullable = true)\n",
      " |-- chargeoff_within_12_mths: double (nullable = true)\n",
      " |-- tax_liens: double (nullable = true)\n",
      " |-- pub_rec_bankruptcies: double (nullable = true)\n",
      " |-- num_tl_120dpd_2m: double (nullable = true)\n",
      " |-- num_tl_30dpd: double (nullable = true)\n",
      " |-- num_tl_90g_dpd_24m: double (nullable = true)\n",
      " |-- num_accts_ever_120_pd: double (nullable = true)\n",
      " |-- delinq_amnt: double (nullable = true)\n",
      " |-- mort_acc_missing: integer (nullable = true)\n",
      "\n",
      "+-----------+\n",
      "|member_id  |\n",
      "+-----------+\n",
      "|MEM_1003254|\n",
      "|MEM_1004941|\n",
      "|MEM_1005659|\n",
      "|MEM_1012996|\n",
      "|MEM_1014777|\n",
      "+-----------+\n",
      "only showing top 5 rows\n",
      "\n",
      "Schema: demographic_2023-01-01\n",
      "root\n",
      " |-- member_id: string (nullable = true)\n",
      " |-- snapshot_date: timestamp_ntz (nullable = true)\n",
      " |-- emp_title: string (nullable = true)\n",
      " |-- emp_length: string (nullable = true)\n",
      " |-- home_ownership: string (nullable = true)\n",
      " |-- annual_inc: double (nullable = true)\n",
      " |-- verification_status: string (nullable = true)\n",
      " |-- zip_code: string (nullable = true)\n",
      " |-- addr_state: string (nullable = true)\n",
      " |-- application_type: string (nullable = true)\n",
      "\n",
      "+-----------+\n",
      "|member_id  |\n",
      "+-----------+\n",
      "|MEM_1003254|\n",
      "|MEM_1004941|\n",
      "|MEM_1005659|\n",
      "|MEM_1012996|\n",
      "|MEM_1014777|\n",
      "+-----------+\n",
      "only showing top 5 rows\n",
      "\n",
      "Schema: financial_2023-01-01\n",
      "root\n",
      " |-- member_id: string (nullable = true)\n",
      " |-- snapshot_date: timestamp_ntz (nullable = true)\n",
      " |-- dti: double (nullable = true)\n",
      " |-- revol_bal: long (nullable = true)\n",
      " |-- revol_util: double (nullable = true)\n",
      " |-- total_rev_hi_lim: double (nullable = true)\n",
      " |-- tot_coll_amt: double (nullable = true)\n",
      " |-- tot_cur_bal: double (nullable = true)\n",
      " |-- avg_cur_bal: double (nullable = true)\n",
      " |-- all_util: double (nullable = true)\n",
      " |-- max_bal_bc: double (nullable = true)\n",
      " |-- il_util: double (nullable = true)\n",
      " |-- bc_util: double (nullable = true)\n",
      " |-- total_bal_il: double (nullable = true)\n",
      " |-- total_bal_ex_mort: double (nullable = true)\n",
      " |-- total_bc_limit: double (nullable = true)\n",
      " |-- total_il_high_credit_limit: double (nullable = true)\n",
      " |-- tot_hi_cred_lim: double (nullable = true)\n",
      " |-- open_acc: double (nullable = true)\n",
      " |-- total_acc: double (nullable = true)\n",
      " |-- open_acc_6m: double (nullable = true)\n",
      " |-- open_act_il: double (nullable = true)\n",
      " |-- open_il_12m: double (nullable = true)\n",
      " |-- open_il_24m: double (nullable = true)\n",
      " |-- open_rv_12m: double (nullable = true)\n",
      " |-- open_rv_24m: double (nullable = true)\n",
      " |-- acc_open_past_24mths: double (nullable = true)\n",
      " |-- mo_sin_old_il_acct: double (nullable = true)\n",
      " |-- mo_sin_old_rev_tl_op: double (nullable = true)\n",
      " |-- mo_sin_rcnt_rev_tl_op: double (nullable = true)\n",
      " |-- mo_sin_rcnt_tl: double (nullable = true)\n",
      " |-- num_actv_bc_tl: double (nullable = true)\n",
      " |-- num_actv_rev_tl: double (nullable = true)\n",
      " |-- num_rev_accts: double (nullable = true)\n",
      " |-- num_rev_tl_bal_gt_0: double (nullable = true)\n",
      " |-- num_il_tl: double (nullable = true)\n",
      " |-- num_bc_tl: double (nullable = true)\n",
      " |-- num_op_rev_tl: double (nullable = true)\n",
      " |-- num_sats: double (nullable = true)\n",
      " |-- num_bc_sats: double (nullable = true)\n",
      " |-- total_cu_tl: double (nullable = true)\n",
      " |-- bc_open_to_buy: double (nullable = true)\n",
      " |-- percent_bc_gt_75: double (nullable = true)\n",
      " |-- pct_tl_nvr_dlq: double (nullable = true)\n",
      " |-- all_util_missing: integer (nullable = true)\n",
      " |-- il_util_missing: integer (nullable = true)\n",
      " |-- bc_util_missing: integer (nullable = true)\n",
      "\n",
      "+-----------+\n",
      "|member_id  |\n",
      "+-----------+\n",
      "|MEM_1003254|\n",
      "|MEM_1004941|\n",
      "|MEM_1005659|\n",
      "|MEM_1012996|\n",
      "|MEM_1014777|\n",
      "+-----------+\n",
      "only showing top 5 rows\n",
      "\n",
      "Schema: loan_terms_2023-01-01\n",
      "root\n",
      " |-- id: string (nullable = true)\n",
      " |-- member_id: string (nullable = true)\n",
      " |-- snapshot_date: timestamp_ntz (nullable = true)\n",
      " |-- loan_amnt: long (nullable = true)\n",
      " |-- funded_amnt: long (nullable = true)\n",
      " |-- funded_amnt_inv: double (nullable = true)\n",
      " |-- term: string (nullable = true)\n",
      " |-- int_rate: double (nullable = true)\n",
      " |-- installment: double (nullable = true)\n",
      " |-- grade: string (nullable = true)\n",
      " |-- sub_grade: string (nullable = true)\n",
      " |-- issue_d: string (nullable = true)\n",
      " |-- loan_status: string (nullable = true)\n",
      " |-- pymnt_plan: integer (nullable = true)\n",
      " |-- purpose: string (nullable = true)\n",
      " |-- initial_list_status: string (nullable = true)\n",
      " |-- disbursement_method: string (nullable = true)\n",
      " |-- debt_settlement_flag: string (nullable = true)\n",
      "\n",
      "+-----------+\n",
      "|member_id  |\n",
      "+-----------+\n",
      "|MEM_1003254|\n",
      "|MEM_1004941|\n",
      "|MEM_1005659|\n",
      "|MEM_1012996|\n",
      "|MEM_1014777|\n",
      "+-----------+\n",
      "only showing top 5 rows\n",
      "\n"
     ]
    }
   ],
   "source": [
    "for file in sample_parquets:\n",
    "    df = spark.read.parquet(str(file))\n",
    "    print(f\"Schema: {file.name}\")\n",
    "    df.printSchema()\n",
    "    df.select(\"member_id\").show(5, truncate=False)"
   ]
  },
  {
   "cell_type": "code",
   "execution_count": null,
   "id": "71e0e3dd-6a69-4d57-9706-83293cba3bae",
   "metadata": {},
   "outputs": [],
   "source": []
  },
  {
   "cell_type": "markdown",
   "id": "879edc59-5092-48ca-b9d0-17a5bee058c9",
   "metadata": {},
   "source": [
    "## Gold Level Processing"
   ]
  },
  {
   "cell_type": "markdown",
   "id": "7d3bfb25-1f87-4ef4-ab52-a056daadf691",
   "metadata": {},
   "source": [
    "### Label Store"
   ]
  },
  {
   "cell_type": "code",
   "execution_count": 7,
   "id": "17e22e74-0fc9-4de6-9b9e-7d6f073e3ca9",
   "metadata": {},
   "outputs": [],
   "source": [
    "silver_loan_terms_dir = Path(\"datamart/silver/loan_terms\")"
   ]
  },
  {
   "cell_type": "code",
   "execution_count": 8,
   "id": "1a5b8710-173b-4094-b1d4-44c9fe1ac611",
   "metadata": {},
   "outputs": [
    {
     "name": "stderr",
     "output_type": "stream",
     "text": [
      "                                                                                "
     ]
    },
    {
     "name": "stdout",
     "output_type": "stream",
     "text": [
      "Gold label store written to: datamart/gold\n"
     ]
    }
   ],
   "source": [
    "from utils.gold_label_store import create_gold_label_store\n",
    "\n",
    "create_gold_label_store(silver_loan_terms_dir, gold_dir, data_window=date_list)"
   ]
  },
  {
   "cell_type": "code",
   "execution_count": 11,
   "id": "e15b4b24-c6b3-41fc-8bb8-d2bfa304f38e",
   "metadata": {},
   "outputs": [
    {
     "name": "stdout",
     "output_type": "stream",
     "text": [
      "📂 Sampled file: datamart/gold/label_store/weeks/label_store_partition=label_store_week_14_2024-04-01/part-00002-bdaba0c7-627c-44e0-b0d9-8c99b67d1093.c000.snappy.parquet\n",
      "root\n",
      " |-- member_id: string (nullable = true)\n",
      " |-- snapshot_date: date (nullable = true)\n",
      " |-- grade: string (nullable = true)\n",
      " |-- start_of_week: date (nullable = true)\n",
      " |-- snapshot_week: integer (nullable = true)\n",
      " |-- snapshot_month: integer (nullable = true)\n",
      "\n",
      "+-----------+-------------+-----+-------------+-------------+--------------+\n",
      "|member_id  |snapshot_date|grade|start_of_week|snapshot_week|snapshot_month|\n",
      "+-----------+-------------+-----+-------------+-------------+--------------+\n",
      "|MEM_1000049|2024-04-04   |B    |2024-04-01   |14           |4             |\n",
      "|MEM_1000317|2024-04-04   |G    |2024-04-01   |14           |4             |\n",
      "|MEM_1000438|2024-04-04   |B    |2024-04-01   |14           |4             |\n",
      "|MEM_1001   |2024-04-04   |B    |2024-04-01   |14           |4             |\n",
      "|MEM_1007503|2024-04-04   |B    |2024-04-01   |14           |4             |\n",
      "+-----------+-------------+-----+-------------+-------------+--------------+\n",
      "only showing top 5 rows\n",
      "\n"
     ]
    }
   ],
   "source": [
    "folder = Path(\"datamart/gold/label_store/weeks\")\n",
    "parquet_files = list(folder.rglob(\"*.parquet\"))\n",
    "sample_file = random.choice(parquet_files)\n",
    "print(f\"📂 Sampled file: {sample_file}\")\n",
    "df = spark.read.parquet(str(sample_file))\n",
    "df.printSchema()\n",
    "df.show(5, truncate=False)"
   ]
  },
  {
   "cell_type": "markdown",
   "id": "53747fff-4f39-45a7-bcef-e7cef5702545",
   "metadata": {},
   "source": [
    "### Feature Store"
   ]
  },
  {
   "cell_type": "code",
   "execution_count": null,
   "id": "a81be944-75c9-4e85-a227-3303806d61b7",
   "metadata": {},
   "outputs": [],
   "source": []
  },
  {
   "cell_type": "code",
   "execution_count": null,
   "id": "d81234df-6a82-4be5-9024-20f42285b5e0",
   "metadata": {},
   "outputs": [],
   "source": []
  }
 ],
 "metadata": {
  "kernelspec": {
   "display_name": "Python 3 (ipykernel)",
   "language": "python",
   "name": "python3"
  },
  "language_info": {
   "codemirror_mode": {
    "name": "ipython",
    "version": 3
   },
   "file_extension": ".py",
   "mimetype": "text/x-python",
   "name": "python",
   "nbconvert_exporter": "python",
   "pygments_lexer": "ipython3",
   "version": "3.12.11"
  }
 },
 "nbformat": 4,
 "nbformat_minor": 5
}
